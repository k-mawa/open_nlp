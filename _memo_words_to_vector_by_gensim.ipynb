{
 "cells": [
  {
   "cell_type": "code",
   "execution_count": 1,
   "metadata": {
    "collapsed": true
   },
   "outputs": [],
   "source": [
    "#ただの文章→分かち書き→コーパスつくるところまでの記録"
   ]
  },
  {
   "cell_type": "code",
   "execution_count": 2,
   "metadata": {
    "collapsed": true
   },
   "outputs": [],
   "source": [
    "from natto import MeCab"
   ]
  },
  {
   "cell_type": "code",
   "execution_count": 3,
   "metadata": {
    "collapsed": true
   },
   "outputs": [],
   "source": [
    "from natto import MeCab\n",
    "nm = MeCab('-Owakati')"
   ]
  },
  {
   "cell_type": "code",
   "execution_count": 4,
   "metadata": {
    "collapsed": true
   },
   "outputs": [],
   "source": [
    "words1 = \"最近好きなマンガはJOJOである。ジョジョの奇妙な冒険は、大人になってから読んだが、タイトルの通りまさに奇妙な冒険である。よくあるのは登場人物の体の中に、他の人物や他の物体が入り込んだりするシーンである。また、固いものが柔らかくなったり重力が歪められたりと奇想天外な世界観が面白い。私の一番好きなキャラクターは、ポルナレフかなぁ\"\n",
    "words2 = \"ドラえもんは不朽の名作である。自分は、昔タケコプターがとても欲しかったのだが、今気づけば高所恐怖症になってしまっている感じであるため、あんまり欲しくない。どこでもドアがあれば満員電車に乗らずに、田舎の美しい村から東京に通勤時間0秒で行けるだろう・・・それはとても良い。でもテキオー灯で深海旅行もイイなァ。ちょっとサメが怖いけど・・・\""
   ]
  },
  {
   "cell_type": "code",
   "execution_count": 109,
   "metadata": {
    "collapsed": true
   },
   "outputs": [],
   "source": [
    "#↑自分の書いた謎の文章を2個用意^^;"
   ]
  },
  {
   "cell_type": "code",
   "execution_count": 6,
   "metadata": {
    "collapsed": false
   },
   "outputs": [
    {
     "name": "stdout",
     "output_type": "stream",
     "text": [
      "最近 好き な マンガ は JOJO で ある 。 ジョジョ の 奇妙 な 冒険 は 、 大人 に なっ て から 読ん だ が 、 タイトル の 通り まさに 奇妙 な 冒険 で ある 。 よく ある の は 登場 人物 の 体 の 中 に 、 他 の 人物 や 他 の 物体 が 入り込ん だり する シーン で ある 。 また 、 固い もの が 柔らかく なっ たり 重力 が 歪め られ たり と 奇想天外 な 世界 観 が 面白い 。 私 の 一番 好き な キャラクター は 、 ポルナレフ か なぁ\n"
     ]
    }
   ],
   "source": [
    "print(nm.parse(words1))"
   ]
  },
  {
   "cell_type": "code",
   "execution_count": 110,
   "metadata": {
    "collapsed": true
   },
   "outputs": [],
   "source": [
    "#↑↓いわゆる形態素に分解してその間にタブを入れてるもの。これが「分かち書き」という"
   ]
  },
  {
   "cell_type": "code",
   "execution_count": 7,
   "metadata": {
    "collapsed": false
   },
   "outputs": [
    {
     "name": "stdout",
     "output_type": "stream",
     "text": [
      "ドラえもん は 不朽 の 名作 で ある 。 自分 は 、 昔 タケコプター が とても 欲しかっ た の だ が 、 今 気づけ ば 高所 恐怖症 に なっ て しまっ て いる 感じ で ある ため 、 あんまり 欲しく ない 。 どこ でも ドア が あれ ば 満員 電車 に 乗ら ず に 、 田舎 の 美しい 村 から 東京 に 通勤 時間 0 秒 で 行ける だろ う ・ ・ ・ それ は とても 良い 。 でも テキオー 灯 で 深海 旅行 も イイ なァ 。 ちょっと サメ が 怖い けど ・ ・ ・\n"
     ]
    }
   ],
   "source": [
    "print(nm.parse(words2))"
   ]
  },
  {
   "cell_type": "code",
   "execution_count": 12,
   "metadata": {
    "collapsed": true
   },
   "outputs": [],
   "source": [
    "word_list1 = [n.surface for n in nm.parse(words1, as_nodes=True) if n.is_nor()]"
   ]
  },
  {
   "cell_type": "code",
   "execution_count": 111,
   "metadata": {
    "collapsed": true
   },
   "outputs": [],
   "source": [
    "#分かち書きされたものをリストの中に収納する"
   ]
  },
  {
   "cell_type": "code",
   "execution_count": 13,
   "metadata": {
    "collapsed": false
   },
   "outputs": [
    {
     "name": "stdout",
     "output_type": "stream",
     "text": [
      "['最近', '好き', 'な', 'マンガ', 'は', 'で', 'ある', '。', 'の', '奇妙', 'な', '冒険', 'は', '、', '大人', 'に', 'なっ', 'て', 'から', '読ん', 'だ', 'が', '、', 'タイトル', 'の', '通り', 'まさに', '奇妙', 'な', '冒険', 'で', 'ある', '。', 'よく', 'ある', 'の', 'は', '登場', '人物', 'の', '体', 'の', '中', 'に', '、', '他', 'の', '人物', 'や', '他', 'の', '物体', 'が', '入り込ん', 'だり', 'する', 'シーン', 'で', 'ある', '。', 'また', '、', '固い', 'もの', 'が', '柔らかく', 'なっ', 'たり', '重力', 'が', '歪め', 'られ', 'たり', 'と', '奇想天外', 'な', '世界', '観', 'が', '面白い', '。', '私', 'の', '一番', '好き', 'な', 'キャラクター', 'は', '、', 'か', 'なぁ']\n"
     ]
    }
   ],
   "source": [
    "print(word_list1)"
   ]
  },
  {
   "cell_type": "code",
   "execution_count": 14,
   "metadata": {
    "collapsed": true
   },
   "outputs": [],
   "source": [
    "word_list2 = [n.surface for n in nm.parse(words2, as_nodes=True) if n.is_nor()]"
   ]
  },
  {
   "cell_type": "code",
   "execution_count": 15,
   "metadata": {
    "collapsed": false
   },
   "outputs": [
    {
     "name": "stdout",
     "output_type": "stream",
     "text": [
      "['ドラえもん', 'は', '不朽', 'の', '名作', 'で', 'ある', '。', '自分', 'は', '、', '昔', 'が', 'とても', '欲しかっ', 'た', 'の', 'だ', 'が', '、', '今', '気づけ', 'ば', '高所', '恐怖症', 'に', 'なっ', 'て', 'しまっ', 'て', 'いる', '感じ', 'で', 'ある', 'ため', '、', 'あんまり', '欲しく', 'ない', '。', 'どこ', 'でも', 'ドア', 'が', 'あれ', 'ば', '満員', '電車', 'に', '乗ら', 'ず', 'に', '、', '田舎', 'の', '美しい', '村', 'から', '東京', 'に', '通勤', '時間', '秒', 'で', '行ける', 'だろ', 'う', '・', '・', '・', 'それ', 'は', 'とても', '良い', '。', 'でも', '灯', 'で', '深海', '旅行', 'も', 'イイ', 'なァ', '。', 'ちょっと', 'サメ', 'が', '怖い', 'けど', '・', '・', '・']\n"
     ]
    }
   ],
   "source": [
    "print(word_list2)"
   ]
  },
  {
   "cell_type": "code",
   "execution_count": 16,
   "metadata": {
    "collapsed": false
   },
   "outputs": [
    {
     "name": "stderr",
     "output_type": "stream",
     "text": [
      "Using TensorFlow backend.\n"
     ]
    }
   ],
   "source": [
    "from gensim import corpora"
   ]
  },
  {
   "cell_type": "code",
   "execution_count": 112,
   "metadata": {
    "collapsed": true
   },
   "outputs": [],
   "source": [
    "#コーパスをつくるgensimをインポート"
   ]
  },
  {
   "cell_type": "code",
   "execution_count": 20,
   "metadata": {
    "collapsed": false
   },
   "outputs": [
    {
     "ename": "TypeError",
     "evalue": "doc2bow expects an array of unicode tokens on input, not a single string",
     "output_type": "error",
     "traceback": [
      "\u001b[0;31m---------------------------------------------------------------------------\u001b[0m",
      "\u001b[0;31mTypeError\u001b[0m                                 Traceback (most recent call last)",
      "\u001b[0;32m<ipython-input-20-6fd8a86a2844>\u001b[0m in \u001b[0;36m<module>\u001b[0;34m()\u001b[0m\n\u001b[0;32m----> 1\u001b[0;31m \u001b[0mdictionary1\u001b[0m \u001b[0;34m=\u001b[0m \u001b[0mcorpora\u001b[0m\u001b[0;34m.\u001b[0m\u001b[0mDictionary\u001b[0m\u001b[0;34m(\u001b[0m\u001b[0mword_list1\u001b[0m\u001b[0;34m)\u001b[0m\u001b[0;34m\u001b[0m\u001b[0m\n\u001b[0m",
      "\u001b[0;32m/Users/enc/.pyenv/versions/3.5.2/lib/python3.5/site-packages/gensim/corpora/dictionary.py\u001b[0m in \u001b[0;36m__init__\u001b[0;34m(self, documents, prune_at)\u001b[0m\n\u001b[1;32m     56\u001b[0m \u001b[0;34m\u001b[0m\u001b[0m\n\u001b[1;32m     57\u001b[0m         \u001b[0;32mif\u001b[0m \u001b[0mdocuments\u001b[0m \u001b[0;32mis\u001b[0m \u001b[0;32mnot\u001b[0m \u001b[0;32mNone\u001b[0m\u001b[0;34m:\u001b[0m\u001b[0;34m\u001b[0m\u001b[0m\n\u001b[0;32m---> 58\u001b[0;31m             \u001b[0mself\u001b[0m\u001b[0;34m.\u001b[0m\u001b[0madd_documents\u001b[0m\u001b[0;34m(\u001b[0m\u001b[0mdocuments\u001b[0m\u001b[0;34m,\u001b[0m \u001b[0mprune_at\u001b[0m\u001b[0;34m=\u001b[0m\u001b[0mprune_at\u001b[0m\u001b[0;34m)\u001b[0m\u001b[0;34m\u001b[0m\u001b[0m\n\u001b[0m\u001b[1;32m     59\u001b[0m \u001b[0;34m\u001b[0m\u001b[0m\n\u001b[1;32m     60\u001b[0m     \u001b[0;32mdef\u001b[0m \u001b[0m__getitem__\u001b[0m\u001b[0;34m(\u001b[0m\u001b[0mself\u001b[0m\u001b[0;34m,\u001b[0m \u001b[0mtokenid\u001b[0m\u001b[0;34m)\u001b[0m\u001b[0;34m:\u001b[0m\u001b[0;34m\u001b[0m\u001b[0m\n",
      "\u001b[0;32m/Users/enc/.pyenv/versions/3.5.2/lib/python3.5/site-packages/gensim/corpora/dictionary.py\u001b[0m in \u001b[0;36madd_documents\u001b[0;34m(self, documents, prune_at)\u001b[0m\n\u001b[1;32m    117\u001b[0m \u001b[0;34m\u001b[0m\u001b[0m\n\u001b[1;32m    118\u001b[0m             \u001b[0;31m# update Dictionary with the document\u001b[0m\u001b[0;34m\u001b[0m\u001b[0;34m\u001b[0m\u001b[0m\n\u001b[0;32m--> 119\u001b[0;31m             \u001b[0mself\u001b[0m\u001b[0;34m.\u001b[0m\u001b[0mdoc2bow\u001b[0m\u001b[0;34m(\u001b[0m\u001b[0mdocument\u001b[0m\u001b[0;34m,\u001b[0m \u001b[0mallow_update\u001b[0m\u001b[0;34m=\u001b[0m\u001b[0;32mTrue\u001b[0m\u001b[0;34m)\u001b[0m  \u001b[0;31m# ignore the result, here we only care about updating token ids\u001b[0m\u001b[0;34m\u001b[0m\u001b[0m\n\u001b[0m\u001b[1;32m    120\u001b[0m \u001b[0;34m\u001b[0m\u001b[0m\n\u001b[1;32m    121\u001b[0m         logger.info(\n",
      "\u001b[0;32m/Users/enc/.pyenv/versions/3.5.2/lib/python3.5/site-packages/gensim/corpora/dictionary.py\u001b[0m in \u001b[0;36mdoc2bow\u001b[0;34m(self, document, allow_update, return_missing)\u001b[0m\n\u001b[1;32m    139\u001b[0m         \"\"\"\n\u001b[1;32m    140\u001b[0m         \u001b[0;32mif\u001b[0m \u001b[0misinstance\u001b[0m\u001b[0;34m(\u001b[0m\u001b[0mdocument\u001b[0m\u001b[0;34m,\u001b[0m \u001b[0mstring_types\u001b[0m\u001b[0;34m)\u001b[0m\u001b[0;34m:\u001b[0m\u001b[0;34m\u001b[0m\u001b[0m\n\u001b[0;32m--> 141\u001b[0;31m             \u001b[0;32mraise\u001b[0m \u001b[0mTypeError\u001b[0m\u001b[0;34m(\u001b[0m\u001b[0;34m\"doc2bow expects an array of unicode tokens on input, not a single string\"\u001b[0m\u001b[0;34m)\u001b[0m\u001b[0;34m\u001b[0m\u001b[0m\n\u001b[0m\u001b[1;32m    142\u001b[0m \u001b[0;34m\u001b[0m\u001b[0m\n\u001b[1;32m    143\u001b[0m         \u001b[0;31m# Construct (word, frequency) mapping.\u001b[0m\u001b[0;34m\u001b[0m\u001b[0;34m\u001b[0m\u001b[0m\n",
      "\u001b[0;31mTypeError\u001b[0m: doc2bow expects an array of unicode tokens on input, not a single string"
     ]
    }
   ],
   "source": [
    "dictionary1 = corpora.Dictionary(word_list1)"
   ]
  },
  {
   "cell_type": "code",
   "execution_count": 108,
   "metadata": {
    "collapsed": true
   },
   "outputs": [],
   "source": [
    "#↑word_list1のリストをぶっこむとエラーになる（word_list1 = [word_list1]で作ったアレイでないとバグる）"
   ]
  },
  {
   "cell_type": "code",
   "execution_count": 32,
   "metadata": {
    "collapsed": false
   },
   "outputs": [],
   "source": [
    "word_list1 = [word_list1] "
   ]
  },
  {
   "cell_type": "code",
   "execution_count": 34,
   "metadata": {
    "collapsed": false
   },
   "outputs": [
    {
     "data": {
      "text/plain": [
       "[['最近',\n",
       "  '好き',\n",
       "  'な',\n",
       "  'マンガ',\n",
       "  'は',\n",
       "  'で',\n",
       "  'ある',\n",
       "  '。',\n",
       "  'の',\n",
       "  '奇妙',\n",
       "  'な',\n",
       "  '冒険',\n",
       "  'は',\n",
       "  '、',\n",
       "  '大人',\n",
       "  'に',\n",
       "  'なっ',\n",
       "  'て',\n",
       "  'から',\n",
       "  '読ん',\n",
       "  'だ',\n",
       "  'が',\n",
       "  '、',\n",
       "  'タイトル',\n",
       "  'の',\n",
       "  '通り',\n",
       "  'まさに',\n",
       "  '奇妙',\n",
       "  'な',\n",
       "  '冒険',\n",
       "  'で',\n",
       "  'ある',\n",
       "  '。',\n",
       "  'よく',\n",
       "  'ある',\n",
       "  'の',\n",
       "  'は',\n",
       "  '登場',\n",
       "  '人物',\n",
       "  'の',\n",
       "  '体',\n",
       "  'の',\n",
       "  '中',\n",
       "  'に',\n",
       "  '、',\n",
       "  '他',\n",
       "  'の',\n",
       "  '人物',\n",
       "  'や',\n",
       "  '他',\n",
       "  'の',\n",
       "  '物体',\n",
       "  'が',\n",
       "  '入り込ん',\n",
       "  'だり',\n",
       "  'する',\n",
       "  'シーン',\n",
       "  'で',\n",
       "  'ある',\n",
       "  '。',\n",
       "  'また',\n",
       "  '、',\n",
       "  '固い',\n",
       "  'もの',\n",
       "  'が',\n",
       "  '柔らかく',\n",
       "  'なっ',\n",
       "  'たり',\n",
       "  '重力',\n",
       "  'が',\n",
       "  '歪め',\n",
       "  'られ',\n",
       "  'たり',\n",
       "  'と',\n",
       "  '奇想天外',\n",
       "  'な',\n",
       "  '世界',\n",
       "  '観',\n",
       "  'が',\n",
       "  '面白い',\n",
       "  '。',\n",
       "  '私',\n",
       "  'の',\n",
       "  '一番',\n",
       "  '好き',\n",
       "  'な',\n",
       "  'キャラクター',\n",
       "  'は',\n",
       "  '、',\n",
       "  'か',\n",
       "  'なぁ']]"
      ]
     },
     "execution_count": 34,
     "metadata": {},
     "output_type": "execute_result"
    }
   ],
   "source": [
    "word_list1"
   ]
  },
  {
   "cell_type": "code",
   "execution_count": 78,
   "metadata": {
    "collapsed": false
   },
   "outputs": [],
   "source": [
    "dictionary1 = corpora.Dictionary(word_list1)"
   ]
  },
  {
   "cell_type": "code",
   "execution_count": 113,
   "metadata": {
    "collapsed": true
   },
   "outputs": [],
   "source": [
    "#↑これだけで辞書ができる。単語にIDを振って保存してくれる"
   ]
  },
  {
   "cell_type": "code",
   "execution_count": 79,
   "metadata": {
    "collapsed": false
   },
   "outputs": [
    {
     "data": {
      "text/plain": [
       "<gensim.corpora.dictionary.Dictionary at 0x122cd4c88>"
      ]
     },
     "execution_count": 79,
     "metadata": {},
     "output_type": "execute_result"
    }
   ],
   "source": [
    "dictionary1"
   ]
  },
  {
   "cell_type": "code",
   "execution_count": 80,
   "metadata": {
    "collapsed": false
   },
   "outputs": [
    {
     "name": "stdout",
     "output_type": "stream",
     "text": [
      "Dictionary(53 unique tokens: ['か', 'だり', 'また', '面白い', '、']...)\n"
     ]
    }
   ],
   "source": [
    "print(dictionary1)"
   ]
  },
  {
   "cell_type": "code",
   "execution_count": 81,
   "metadata": {
    "collapsed": false
   },
   "outputs": [
    {
     "name": "stdout",
     "output_type": "stream",
     "text": [
      "{'か': 0, 'だり': 1, 'また': 2, '面白い': 3, '、': 4, 'タイトル': 11, 'する': 6, '好き': 7, 'なぁ': 44, 'キャラクター': 8, '読ん': 9, 'よく': 10, 'まさに': 5, '登場': 13, 'は': 14, '私': 15, '一番': 16, '。': 18, '体': 45, '奇想天外': 20, '物体': 21, '柔らかく': 22, 'に': 23, '冒険': 25, 'な': 26, '歪め': 27, '大人': 28, '最近': 29, 'で': 30, 'ある': 31, '奇妙': 32, '通り': 33, 'られ': 34, '世界': 52, 'から': 35, '重力': 36, 'や': 37, 'マンガ': 38, '中': 39, 'たり': 40, 'だ': 41, '他': 49, 'の': 43, 'が': 17, '固い': 19, '人物': 46, 'なっ': 48, 'と': 47, 'もの': 24, 'シーン': 42, '観': 50, '入り込ん': 51, 'て': 12}\n"
     ]
    }
   ],
   "source": [
    "print(dictionary1.token2id)"
   ]
  },
  {
   "cell_type": "code",
   "execution_count": 82,
   "metadata": {
    "collapsed": true
   },
   "outputs": [],
   "source": [
    "#↑単語ごとのIDつきの辞書になってます\n",
    "#本来は名詞だけにしたり、特殊過ぎる単語は外れ値として消したりします（dictionary1.filter_extremes(no_below=1)）が、\n",
    "#そのままで今回はコーパスにしちゃいます"
   ]
  },
  {
   "cell_type": "code",
   "execution_count": 84,
   "metadata": {
    "collapsed": false
   },
   "outputs": [],
   "source": [
    "dictionary1.save_as_text('dictionary1.txt')"
   ]
  },
  {
   "cell_type": "code",
   "execution_count": 85,
   "metadata": {
    "collapsed": false
   },
   "outputs": [],
   "source": [
    "#↑辞書を保存"
   ]
  },
  {
   "cell_type": "code",
   "execution_count": 86,
   "metadata": {
    "collapsed": true
   },
   "outputs": [],
   "source": [
    "word_list1_2 = [n.surface for n in nm.parse(words1, as_nodes=True) if n.is_nor()]"
   ]
  },
  {
   "cell_type": "code",
   "execution_count": 87,
   "metadata": {
    "collapsed": false
   },
   "outputs": [
    {
     "data": {
      "text/plain": [
       "['最近',\n",
       " '好き',\n",
       " 'な',\n",
       " 'マンガ',\n",
       " 'は',\n",
       " 'で',\n",
       " 'ある',\n",
       " '。',\n",
       " 'の',\n",
       " '奇妙',\n",
       " 'な',\n",
       " '冒険',\n",
       " 'は',\n",
       " '、',\n",
       " '大人',\n",
       " 'に',\n",
       " 'なっ',\n",
       " 'て',\n",
       " 'から',\n",
       " '読ん',\n",
       " 'だ',\n",
       " 'が',\n",
       " '、',\n",
       " 'タイトル',\n",
       " 'の',\n",
       " '通り',\n",
       " 'まさに',\n",
       " '奇妙',\n",
       " 'な',\n",
       " '冒険',\n",
       " 'で',\n",
       " 'ある',\n",
       " '。',\n",
       " 'よく',\n",
       " 'ある',\n",
       " 'の',\n",
       " 'は',\n",
       " '登場',\n",
       " '人物',\n",
       " 'の',\n",
       " '体',\n",
       " 'の',\n",
       " '中',\n",
       " 'に',\n",
       " '、',\n",
       " '他',\n",
       " 'の',\n",
       " '人物',\n",
       " 'や',\n",
       " '他',\n",
       " 'の',\n",
       " '物体',\n",
       " 'が',\n",
       " '入り込ん',\n",
       " 'だり',\n",
       " 'する',\n",
       " 'シーン',\n",
       " 'で',\n",
       " 'ある',\n",
       " '。',\n",
       " 'また',\n",
       " '、',\n",
       " '固い',\n",
       " 'もの',\n",
       " 'が',\n",
       " '柔らかく',\n",
       " 'なっ',\n",
       " 'たり',\n",
       " '重力',\n",
       " 'が',\n",
       " '歪め',\n",
       " 'られ',\n",
       " 'たり',\n",
       " 'と',\n",
       " '奇想天外',\n",
       " 'な',\n",
       " '世界',\n",
       " '観',\n",
       " 'が',\n",
       " '面白い',\n",
       " '。',\n",
       " '私',\n",
       " 'の',\n",
       " '一番',\n",
       " '好き',\n",
       " 'な',\n",
       " 'キャラクター',\n",
       " 'は',\n",
       " '、',\n",
       " 'か',\n",
       " 'なぁ']"
      ]
     },
     "execution_count": 87,
     "metadata": {},
     "output_type": "execute_result"
    }
   ],
   "source": [
    "word_list1_2"
   ]
  },
  {
   "cell_type": "code",
   "execution_count": 89,
   "metadata": {
    "collapsed": false
   },
   "outputs": [],
   "source": [
    "vec = dictionary1.doc2bow(word_list1_2)"
   ]
  },
  {
   "cell_type": "code",
   "execution_count": 91,
   "metadata": {
    "collapsed": true
   },
   "outputs": [],
   "source": [
    "#さっき作ったばかりの辞書（dictionary1）にword_listのリスト（word_list = [word_list]で作ったアレイではないのに注意）\n",
    "#を利用して、bow形式のコーパスをつくる"
   ]
  },
  {
   "cell_type": "code",
   "execution_count": 93,
   "metadata": {
    "collapsed": false
   },
   "outputs": [
    {
     "data": {
      "text/plain": [
       "[(0, 1),\n",
       " (1, 1),\n",
       " (2, 1),\n",
       " (3, 1),\n",
       " (4, 5),\n",
       " (5, 1),\n",
       " (6, 1),\n",
       " (7, 2),\n",
       " (8, 1),\n",
       " (9, 1)]"
      ]
     },
     "execution_count": 93,
     "metadata": {},
     "output_type": "execute_result"
    }
   ],
   "source": [
    "vec[:10]"
   ]
  },
  {
   "cell_type": "code",
   "execution_count": 94,
   "metadata": {
    "collapsed": true
   },
   "outputs": [],
   "source": [
    "from gensim import corpora, matutils"
   ]
  },
  {
   "cell_type": "code",
   "execution_count": 102,
   "metadata": {
    "collapsed": false
   },
   "outputs": [],
   "source": [
    "tmp = dictionary1.doc2bow(word_list1_2)\n",
    "dense1 = list(matutils.corpus2dense([tmp], num_terms=len(dictionary1)).T[0])"
   ]
  },
  {
   "cell_type": "code",
   "execution_count": 101,
   "metadata": {
    "collapsed": true
   },
   "outputs": [],
   "source": [
    "#bow形式のコーパスを参照しつつ、len(dictionary1)=53（単語）のwords1の特徴ベクトルを作成"
   ]
  },
  {
   "cell_type": "code",
   "execution_count": 103,
   "metadata": {
    "collapsed": false
   },
   "outputs": [
    {
     "data": {
      "text/plain": [
       "[1.0,\n",
       " 1.0,\n",
       " 1.0,\n",
       " 1.0,\n",
       " 5.0,\n",
       " 1.0,\n",
       " 1.0,\n",
       " 2.0,\n",
       " 1.0,\n",
       " 1.0,\n",
       " 1.0,\n",
       " 1.0,\n",
       " 1.0,\n",
       " 1.0,\n",
       " 4.0,\n",
       " 1.0,\n",
       " 1.0,\n",
       " 5.0,\n",
       " 4.0,\n",
       " 1.0,\n",
       " 1.0,\n",
       " 1.0,\n",
       " 1.0,\n",
       " 2.0,\n",
       " 1.0,\n",
       " 2.0,\n",
       " 5.0,\n",
       " 1.0,\n",
       " 1.0,\n",
       " 1.0,\n",
       " 3.0,\n",
       " 4.0,\n",
       " 2.0,\n",
       " 1.0,\n",
       " 1.0,\n",
       " 1.0,\n",
       " 1.0,\n",
       " 1.0,\n",
       " 1.0,\n",
       " 1.0,\n",
       " 2.0,\n",
       " 1.0,\n",
       " 1.0,\n",
       " 8.0,\n",
       " 1.0,\n",
       " 1.0,\n",
       " 2.0,\n",
       " 1.0,\n",
       " 2.0,\n",
       " 2.0,\n",
       " 1.0,\n",
       " 1.0,\n",
       " 1.0]"
      ]
     },
     "execution_count": 103,
     "metadata": {},
     "output_type": "execute_result"
    }
   ],
   "source": [
    "dense"
   ]
  },
  {
   "cell_type": "code",
   "execution_count": 105,
   "metadata": {
    "collapsed": false
   },
   "outputs": [],
   "source": [
    "tmp = dictionary1.doc2bow(word_list2)\n",
    "dense2 = list(matutils.corpus2dense([tmp], num_terms=len(dictionary1)).T[0])"
   ]
  },
  {
   "cell_type": "code",
   "execution_count": null,
   "metadata": {
    "collapsed": true
   },
   "outputs": [],
   "source": [
    "#bow形式のコーパスを参照しつつ、words2の特徴ベクトルを作成次元数は同じく53（len(dictionary1)＝53単語）"
   ]
  },
  {
   "cell_type": "code",
   "execution_count": 106,
   "metadata": {
    "collapsed": false
   },
   "outputs": [
    {
     "data": {
      "text/plain": [
       "[0.0,\n",
       " 0.0,\n",
       " 0.0,\n",
       " 0.0,\n",
       " 4.0,\n",
       " 0.0,\n",
       " 0.0,\n",
       " 0.0,\n",
       " 0.0,\n",
       " 0.0,\n",
       " 0.0,\n",
       " 0.0,\n",
       " 2.0,\n",
       " 0.0,\n",
       " 3.0,\n",
       " 0.0,\n",
       " 0.0,\n",
       " 4.0,\n",
       " 4.0,\n",
       " 0.0,\n",
       " 0.0,\n",
       " 0.0,\n",
       " 0.0,\n",
       " 4.0,\n",
       " 0.0,\n",
       " 0.0,\n",
       " 0.0,\n",
       " 0.0,\n",
       " 0.0,\n",
       " 0.0,\n",
       " 4.0,\n",
       " 2.0,\n",
       " 0.0,\n",
       " 0.0,\n",
       " 0.0,\n",
       " 1.0,\n",
       " 0.0,\n",
       " 0.0,\n",
       " 0.0,\n",
       " 0.0,\n",
       " 0.0,\n",
       " 1.0,\n",
       " 0.0,\n",
       " 3.0,\n",
       " 0.0,\n",
       " 0.0,\n",
       " 0.0,\n",
       " 0.0,\n",
       " 1.0,\n",
       " 0.0,\n",
       " 0.0,\n",
       " 0.0,\n",
       " 0.0]"
      ]
     },
     "execution_count": 106,
     "metadata": {},
     "output_type": "execute_result"
    }
   ],
   "source": [
    "dense2"
   ]
  },
  {
   "cell_type": "code",
   "execution_count": 107,
   "metadata": {
    "collapsed": true
   },
   "outputs": [],
   "source": [
    "#dense1とdense2を比べれば良い。可視化するにはこのdense1とdense2の次元を3次元以下にすればできる"
   ]
  },
  {
   "cell_type": "code",
   "execution_count": null,
   "metadata": {
    "collapsed": true
   },
   "outputs": [],
   "source": []
  }
 ],
 "metadata": {
  "kernelspec": {
   "display_name": "Python 3",
   "language": "python",
   "name": "python3"
  },
  "language_info": {
   "codemirror_mode": {
    "name": "ipython",
    "version": 3
   },
   "file_extension": ".py",
   "mimetype": "text/x-python",
   "name": "python",
   "nbconvert_exporter": "python",
   "pygments_lexer": "ipython3",
   "version": "3.5.2"
  }
 },
 "nbformat": 4,
 "nbformat_minor": 1
}
